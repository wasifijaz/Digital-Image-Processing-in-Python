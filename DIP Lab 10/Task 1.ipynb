{
 "cells": [
  {
   "cell_type": "code",
   "execution_count": 2,
   "id": "6d733130",
   "metadata": {},
   "outputs": [],
   "source": [
    "from keras.applications.vgg16 import VGG16\n",
    "from keras import models\n",
    "import glob\n",
    "from PIL import Image\n",
    "import os\n",
    "import numpy as np\n",
    "import tensorflow as tf\n",
    "from sklearn.model_selection import train_test_split\n",
    "from tensorflow.python.keras.models import Sequential\n",
    "from tensorflow.python.layers.core import Dense\n",
    "from nltk.metrics import scores\n",
    "from sklearn import model_selection\n",
    "from keras.models import Sequential\n",
    "from keras.layers.core import Dense, Activation, Dropout\n",
    "import matplotlib.pyplot as plt\n",
    "from keras.layers.convolutional import Conv2D\n",
    "from keras.layers.convolutional import MaxPooling2D\n",
    "from keras.utils import np_utils\n",
    "from keras.layers import Flatten\n",
    "import keras"
   ]
  },
  {
   "cell_type": "code",
   "execution_count": 9,
   "id": "0a2f0527",
   "metadata": {},
   "outputs": [],
   "source": [
    "def load_labels(myDir):\n",
    "    labels = []\n",
    "    fileList = glob.glob(myDir)\n",
    "    for fname in fileList:\n",
    "        fileName = os.path.basename(fname)\n",
    "        curLabel = fileName.split(\"-\")[0]\n",
    "        labels.append(curLabel)\n",
    "    return np.asarray(labels)"
   ]
  },
  {
   "cell_type": "code",
   "execution_count": 10,
   "id": "14f6b43b",
   "metadata": {},
   "outputs": [],
   "source": [
    "def load_data(myDir):\n",
    "    fileList =  glob.glob(myDir)\n",
    "    x = np.array([np.array(Image.open(fname)).flatten() for fname in fileList])\n",
    "    x = x/255\n",
    "    return x"
   ]
  },
  {
   "cell_type": "code",
   "execution_count": 11,
   "id": "fc13332c",
   "metadata": {},
   "outputs": [],
   "source": [
    "myDir = \"train/*.png\"\n",
    "labels = load_labels(myDir)\n",
    "data = load_data(myDir)\n",
    "Labels = tf.keras.utils.to_categorical(labels,10)\n",
    "\n",
    "input_shape = (48,48,3)"
   ]
  },
  {
   "cell_type": "code",
   "execution_count": 12,
   "id": "2968ee35",
   "metadata": {},
   "outputs": [
    {
     "name": "stdout",
     "output_type": "stream",
     "text": [
      "(4200, 48, 48, 3)\n",
      "(2800, 48, 48, 3)\n"
     ]
    }
   ],
   "source": [
    "X_train, X_test, Y_train, Y_test = train_test_split(data, Labels, test_size = 0.40, random_state = 42)\n",
    "\n",
    "X_train_resized = []\n",
    "for img in X_train:\n",
    "    X_train_resized.append(np.resize(img, input_shape))\n",
    "X_train_resized = np.array(X_train_resized)\n",
    "print(X_train_resized.shape)\n",
    "\n",
    "X_test_resized = []\n",
    "for img in X_test:\n",
    "    X_test_resized.append(np.resize(img, input_shape))\n",
    "X_test_resized = np.array(X_test_resized)\n",
    "print(X_test_resized.shape)\n"
   ]
  },
  {
   "cell_type": "code",
   "execution_count": 13,
   "id": "74bd05db",
   "metadata": {},
   "outputs": [
    {
     "name": "stdout",
     "output_type": "stream",
     "text": [
      "Downloading data from https://storage.googleapis.com/tensorflow/keras-applications/vgg16/vgg16_weights_tf_dim_ordering_tf_kernels_notop.h5\n",
      "58892288/58889256 [==============================] - 12s 0us/step\n",
      "58900480/58889256 [==============================] - 12s 0us/step\n",
      "Model: \"vgg16\"\n",
      "_________________________________________________________________\n",
      "Layer (type)                 Output Shape              Param #   \n",
      "=================================================================\n",
      "input_1 (InputLayer)         [(None, 48, 48, 3)]       0         \n",
      "_________________________________________________________________\n",
      "block1_conv1 (Conv2D)        (None, 48, 48, 64)        1792      \n",
      "_________________________________________________________________\n",
      "block1_conv2 (Conv2D)        (None, 48, 48, 64)        36928     \n",
      "_________________________________________________________________\n",
      "block1_pool (MaxPooling2D)   (None, 24, 24, 64)        0         \n",
      "_________________________________________________________________\n",
      "block2_conv1 (Conv2D)        (None, 24, 24, 128)       73856     \n",
      "_________________________________________________________________\n",
      "block2_conv2 (Conv2D)        (None, 24, 24, 128)       147584    \n",
      "_________________________________________________________________\n",
      "block2_pool (MaxPooling2D)   (None, 12, 12, 128)       0         \n",
      "_________________________________________________________________\n",
      "block3_conv1 (Conv2D)        (None, 12, 12, 256)       295168    \n",
      "_________________________________________________________________\n",
      "block3_conv2 (Conv2D)        (None, 12, 12, 256)       590080    \n",
      "_________________________________________________________________\n",
      "block3_conv3 (Conv2D)        (None, 12, 12, 256)       590080    \n",
      "_________________________________________________________________\n",
      "block3_pool (MaxPooling2D)   (None, 6, 6, 256)         0         \n",
      "_________________________________________________________________\n",
      "block4_conv1 (Conv2D)        (None, 6, 6, 512)         1180160   \n",
      "_________________________________________________________________\n",
      "block4_conv2 (Conv2D)        (None, 6, 6, 512)         2359808   \n",
      "_________________________________________________________________\n",
      "block4_conv3 (Conv2D)        (None, 6, 6, 512)         2359808   \n",
      "_________________________________________________________________\n",
      "block4_pool (MaxPooling2D)   (None, 3, 3, 512)         0         \n",
      "_________________________________________________________________\n",
      "block5_conv1 (Conv2D)        (None, 3, 3, 512)         2359808   \n",
      "_________________________________________________________________\n",
      "block5_conv2 (Conv2D)        (None, 3, 3, 512)         2359808   \n",
      "_________________________________________________________________\n",
      "block5_conv3 (Conv2D)        (None, 3, 3, 512)         2359808   \n",
      "_________________________________________________________________\n",
      "block5_pool (MaxPooling2D)   (None, 1, 1, 512)         0         \n",
      "=================================================================\n",
      "Total params: 14,714,688\n",
      "Trainable params: 14,714,688\n",
      "Non-trainable params: 0\n",
      "_________________________________________________________________\n"
     ]
    }
   ],
   "source": [
    "base_model = VGG16(weights='imagenet',include_top=False,input_shape=input_shape)\n",
    "base_model.summary()"
   ]
  },
  {
   "cell_type": "code",
   "execution_count": 14,
   "id": "707c34ff",
   "metadata": {},
   "outputs": [
    {
     "name": "stdout",
     "output_type": "stream",
     "text": [
      "Layers input_1 Frozen.\n",
      "Layers block1_conv1 Frozen.\n",
      "Layers block1_conv2 Frozen.\n",
      "Layers block1_pool Frozen.\n",
      "Layers block2_conv1 Frozen.\n",
      "Layers block2_conv2 Frozen.\n",
      "Layers block2_pool Frozen.\n",
      "Layers block3_conv1 Frozen.\n",
      "Layers block3_conv2 Frozen.\n",
      "Layers block3_conv3 Frozen.\n",
      "Layers block3_pool Frozen.\n",
      "Layers block4_conv1 Frozen.\n",
      "Layers block4_conv2 Frozen.\n",
      "Layers block4_conv3 Frozen.\n",
      "Layers block4_pool Frozen.\n",
      "Layers block5_conv1 Frozen.\n",
      "Layers block5_conv2 Frozen.\n",
      "Layers block5_conv3 Frozen.\n",
      "Layers block5_pool Frozen.\n",
      "Model: \"sequential\"\n",
      "_________________________________________________________________\n",
      "Layer (type)                 Output Shape              Param #   \n",
      "=================================================================\n",
      "vgg16 (Functional)           (None, 1, 1, 512)         14714688  \n",
      "_________________________________________________________________\n",
      "flatten (Flatten)            (None, 512)               0         \n",
      "_________________________________________________________________\n",
      "dense (Dense)                (None, 1024)              525312    \n",
      "_________________________________________________________________\n",
      "dense_1 (Dense)              (None, 10)                10250     \n",
      "=================================================================\n",
      "Total params: 15,250,250\n",
      "Trainable params: 535,562\n",
      "Non-trainable params: 14,714,688\n",
      "_________________________________________________________________\n",
      "Epoch 1/10\n",
      "17/17 [==============================] - 70s 4s/step - loss: 1.9947 - accuracy: 0.2807 - val_loss: 1.7881 - val_accuracy: 0.3721\n",
      "Epoch 2/10\n",
      "17/17 [==============================] - 70s 4s/step - loss: 1.7396 - accuracy: 0.3950 - val_loss: 1.6560 - val_accuracy: 0.4468\n",
      "Epoch 3/10\n",
      "17/17 [==============================] - 68s 4s/step - loss: 1.6208 - accuracy: 0.4498 - val_loss: 1.5842 - val_accuracy: 0.4682\n",
      "Epoch 4/10\n",
      "17/17 [==============================] - 66s 4s/step - loss: 1.5360 - accuracy: 0.4762 - val_loss: 1.5076 - val_accuracy: 0.4936\n",
      "Epoch 5/10\n",
      "17/17 [==============================] - 69s 4s/step - loss: 1.4790 - accuracy: 0.5021 - val_loss: 1.4627 - val_accuracy: 0.5100\n",
      "Epoch 6/10\n",
      "17/17 [==============================] - 72s 4s/step - loss: 1.4250 - accuracy: 0.5171 - val_loss: 1.4196 - val_accuracy: 0.5225\n",
      "Epoch 7/10\n",
      "17/17 [==============================] - 75s 5s/step - loss: 1.3860 - accuracy: 0.5279 - val_loss: 1.4086 - val_accuracy: 0.5300\n",
      "Epoch 8/10\n",
      "17/17 [==============================] - 70s 4s/step - loss: 1.3333 - accuracy: 0.5586 - val_loss: 1.3346 - val_accuracy: 0.5554\n",
      "Epoch 9/10\n",
      "17/17 [==============================] - 75s 5s/step - loss: 1.2943 - accuracy: 0.5729 - val_loss: 1.3106 - val_accuracy: 0.5650\n",
      "Epoch 10/10\n",
      "17/17 [==============================] - 67s 4s/step - loss: 1.2809 - accuracy: 0.5743 - val_loss: 1.2888 - val_accuracy: 0.5618\n",
      "88/88 [==============================] - 27s 306ms/step - loss: 1.2888 - accuracy: 0.5618\n",
      "Test loss: 1.2887911796569824\n",
      "Test accuracy: 0.5617856979370117\n"
     ]
    }
   ],
   "source": [
    "for layer in base_model.layers:\n",
    "    layer.trainable = False\n",
    "    print('Layers '+layer.name+' Frozen.')\n",
    "\n",
    "model = Sequential()\n",
    "model.add(base_model)\n",
    "model.add(Flatten())\n",
    "model.add(Dense(1024,activation='relu'))\n",
    "model.add(Dense(10,activation='softmax'))\n",
    "model.compile(loss='categorical_crossentropy', optimizer='adam', metrics = ['accuracy'])\n",
    "model.summary()\n",
    "\n",
    "epochs=10\n",
    "batch_size=256\n",
    "\n",
    "model.fit(X_train_resized, Y_train, batch_size=batch_size, validation_data=(X_test_resized, Y_test), epochs = epochs)\n",
    "scores = model.evaluate(X_test_resized, Y_test, verbose=1)\n",
    "print('Test loss:', scores[0])\n",
    "print('Test accuracy:', scores[1])"
   ]
  },
  {
   "cell_type": "code",
   "execution_count": null,
   "id": "277e9c02",
   "metadata": {},
   "outputs": [],
   "source": []
  }
 ],
 "metadata": {
  "kernelspec": {
   "display_name": "Python 3",
   "language": "python",
   "name": "python3"
  },
  "language_info": {
   "codemirror_mode": {
    "name": "ipython",
    "version": 3
   },
   "file_extension": ".py",
   "mimetype": "text/x-python",
   "name": "python",
   "nbconvert_exporter": "python",
   "pygments_lexer": "ipython3",
   "version": "3.8.8"
  }
 },
 "nbformat": 4,
 "nbformat_minor": 5
}
