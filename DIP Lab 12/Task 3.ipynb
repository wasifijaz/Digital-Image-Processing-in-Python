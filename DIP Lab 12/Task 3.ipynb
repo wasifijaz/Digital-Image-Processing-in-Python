{
 "cells": [
  {
   "cell_type": "code",
   "execution_count": 1,
   "id": "750f344d",
   "metadata": {},
   "outputs": [],
   "source": [
    "import cv2"
   ]
  },
  {
   "cell_type": "code",
   "execution_count": 2,
   "id": "81963763",
   "metadata": {},
   "outputs": [],
   "source": [
    "image = cv2.imread(\"smile.jfif\")\n",
    "smile_cascade = cv2.CascadeClassifier('haarcascade_smile.xml')\n",
    "smiles  = smile_cascade.detectMultiScale(image, scaleFactor = 1.8, minNeighbors = 20)"
   ]
  },
  {
   "cell_type": "code",
   "execution_count": 3,
   "id": "b1a13733",
   "metadata": {},
   "outputs": [],
   "source": [
    "for (sx, sy, sw, sh) in smiles:\n",
    "    cv2.rectangle(image, (sx, sy), ((sx + sw), (sy + sh)), (0, 255,0), 5)"
   ]
  },
  {
   "cell_type": "code",
   "execution_count": 4,
   "id": "2e29846c",
   "metadata": {},
   "outputs": [],
   "source": [
    "cv2.imshow(\"Smile Detected\", image)\n",
    "cv2.waitKey(0)\n",
    "cv2.destroyAllWindows()"
   ]
  },
  {
   "cell_type": "code",
   "execution_count": null,
   "id": "68a396cd",
   "metadata": {},
   "outputs": [],
   "source": []
  }
 ],
 "metadata": {
  "kernelspec": {
   "display_name": "Python 3",
   "language": "python",
   "name": "python3"
  },
  "language_info": {
   "codemirror_mode": {
    "name": "ipython",
    "version": 3
   },
   "file_extension": ".py",
   "mimetype": "text/x-python",
   "name": "python",
   "nbconvert_exporter": "python",
   "pygments_lexer": "ipython3",
   "version": "3.8.8"
  }
 },
 "nbformat": 4,
 "nbformat_minor": 5
}
