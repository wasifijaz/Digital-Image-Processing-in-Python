{
 "cells": [
  {
   "cell_type": "code",
   "execution_count": 1,
   "id": "d2ff63dd",
   "metadata": {},
   "outputs": [],
   "source": [
    "import cv2\n",
    "import numpy as np"
   ]
  },
  {
   "cell_type": "code",
   "execution_count": 2,
   "id": "df3e1ca0",
   "metadata": {},
   "outputs": [],
   "source": [
    "image = cv2.imread('pic.jpg')"
   ]
  },
  {
   "cell_type": "code",
   "execution_count": 3,
   "id": "cd1ffd7f",
   "metadata": {},
   "outputs": [],
   "source": [
    "gray = cv2.cvtColor(image, cv2.COLOR_BGR2GRAY)"
   ]
  },
  {
   "cell_type": "code",
   "execution_count": 6,
   "id": "536a6c49",
   "metadata": {},
   "outputs": [],
   "source": [
    "ret, thresh1 = cv2.threshold(gray, 150, 255, cv2.THRESH_BINARY)\n",
    "ret, thresh2 = cv2.threshold(gray, 150, 255, cv2.THRESH_BINARY_INV)\n",
    "ret, thresh3 = cv2.threshold(gray, 150, 255, cv2.THRESH_TRUNC)\n",
    "ret, thresh4 = cv2.threshold(gray, 150, 255, cv2.THRESH_TOZERO)\n",
    "ret, thresh5 = cv2.threshold(gray, 150, 255, cv2.THRESH_TOZERO_INV)"
   ]
  },
  {
   "cell_type": "code",
   "execution_count": 7,
   "id": "0bb53313",
   "metadata": {},
   "outputs": [],
   "source": [
    "cv2.imshow('Binary Threshold', thresh1)\n",
    "cv2.imshow('Binary Threshold Inverted', thresh2)\n",
    "cv2.imshow('Truncated Threshold', thresh3)\n",
    "cv2.imshow('Set to 0', thresh4)\n",
    "cv2.imshow('Set to 0 Inverted', thresh5)\n",
    "\n",
    "if cv2.waitKey(0) & 0xff == 27:\n",
    "    cv2.destroyAllWindows()"
   ]
  },
  {
   "cell_type": "code",
   "execution_count": null,
   "id": "07b54286",
   "metadata": {},
   "outputs": [],
   "source": []
  }
 ],
 "metadata": {
  "kernelspec": {
   "display_name": "Python 3",
   "language": "python",
   "name": "python3"
  },
  "language_info": {
   "codemirror_mode": {
    "name": "ipython",
    "version": 3
   },
   "file_extension": ".py",
   "mimetype": "text/x-python",
   "name": "python",
   "nbconvert_exporter": "python",
   "pygments_lexer": "ipython3",
   "version": "3.8.8"
  }
 },
 "nbformat": 4,
 "nbformat_minor": 5
}
