{
 "cells": [
  {
   "cell_type": "code",
   "execution_count": 1,
   "id": "93a182d2",
   "metadata": {},
   "outputs": [],
   "source": [
    "import cv2 as cv\n",
    "import numpy as np"
   ]
  },
  {
   "cell_type": "code",
   "execution_count": 2,
   "id": "8a15cbac",
   "metadata": {},
   "outputs": [],
   "source": [
    "img_fn = [\"img0.jfif\", \"img1.jfif\", \"img2.jfif\", \"img3.jfif\"]\n",
    "img_list = [cv.imread(fn) for fn in img_fn]\n",
    "exposure_times = np.array([15.0, 2.5, 0.25, 0.0333], dtype=np.float32)"
   ]
  },
  {
   "cell_type": "code",
   "execution_count": 3,
   "id": "d62b54ea",
   "metadata": {},
   "outputs": [],
   "source": [
    "merge_debevec = cv.createMergeDebevec()\n",
    "hdr_debevec = merge_debevec.process(img_list, times=exposure_times.copy())\n",
    "merge_robertson = cv.createMergeRobertson()\n",
    "hdr_robertson = merge_robertson.process(img_list, times=exposure_times.copy())"
   ]
  },
  {
   "cell_type": "code",
   "execution_count": 4,
   "id": "d3e9ec38",
   "metadata": {},
   "outputs": [],
   "source": [
    "tonemap1 = cv.createTonemap(gamma = 2.2)\n",
    "res_debevec = tonemap1.process(hdr_debevec.copy())\n",
    "res_robertson = tonemap1.process(hdr_robertson.copy())"
   ]
  },
  {
   "cell_type": "code",
   "execution_count": 5,
   "id": "cb862509",
   "metadata": {},
   "outputs": [],
   "source": [
    "res_debevec_8bits = np.clip(res_debevec*255,0,255).astype('uint8')\n",
    "res_robertson_8bits = np.clip(res_robertson*255,0,255).astype('uint8')"
   ]
  },
  {
   "cell_type": "code",
   "execution_count": 6,
   "id": "5e3e8c11",
   "metadata": {},
   "outputs": [
    {
     "data": {
      "text/plain": [
       "True"
      ]
     },
     "execution_count": 6,
     "metadata": {},
     "output_type": "execute_result"
    }
   ],
   "source": [
    "cv.imwrite('ldr_debevec2.jpg', res_debevec_8bits)\n",
    "cv.imwrite('ldr_robertson2.jpg', res_robertson_8bits)"
   ]
  },
  {
   "cell_type": "code",
   "execution_count": null,
   "id": "403034ca",
   "metadata": {},
   "outputs": [],
   "source": []
  }
 ],
 "metadata": {
  "kernelspec": {
   "display_name": "Python 3",
   "language": "python",
   "name": "python3"
  },
  "language_info": {
   "codemirror_mode": {
    "name": "ipython",
    "version": 3
   },
   "file_extension": ".py",
   "mimetype": "text/x-python",
   "name": "python",
   "nbconvert_exporter": "python",
   "pygments_lexer": "ipython3",
   "version": "3.8.8"
  }
 },
 "nbformat": 4,
 "nbformat_minor": 5
}
