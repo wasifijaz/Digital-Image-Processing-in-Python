{
 "cells": [
  {
   "cell_type": "code",
   "execution_count": 1,
   "id": "3a3aa8e3",
   "metadata": {},
   "outputs": [],
   "source": [
    "import cv2\n",
    "import numpy as np\n",
    "import matplotlib.pyplot as plt\n",
    "from PIL import Image"
   ]
  },
  {
   "cell_type": "code",
   "execution_count": 2,
   "id": "ed38d8e4",
   "metadata": {},
   "outputs": [],
   "source": [
    "img = cv2.imread('bird.png')"
   ]
  },
  {
   "cell_type": "code",
   "execution_count": 6,
   "id": "9de20c18",
   "metadata": {},
   "outputs": [],
   "source": [
    "hsv = cv2.cvtColor(img, cv2.COLOR_BGR2HSV)"
   ]
  },
  {
   "cell_type": "code",
   "execution_count": 4,
   "id": "0f819202",
   "metadata": {},
   "outputs": [],
   "source": [
    "low_blue = np.array([55, 0, 0])\n",
    "med_blue = np.array([118, 255, 255])\n",
    "mask = cv2.inRange(hsv, low_blue, med_blue)"
   ]
  },
  {
   "cell_type": "code",
   "execution_count": 5,
   "id": "a45ae6ca",
   "metadata": {},
   "outputs": [],
   "source": [
    "res = cv2.bitwise_and(img,img, mask=mask)"
   ]
  },
  {
   "cell_type": "code",
   "execution_count": 7,
   "id": "0177684d",
   "metadata": {},
   "outputs": [],
   "source": [
    "cv2.imshow('fig',res)\n",
    "cv2.waitKey(0)\n",
    "cv2.destroyAllWindows()"
   ]
  },
  {
   "cell_type": "code",
   "execution_count": null,
   "id": "227bd653",
   "metadata": {},
   "outputs": [],
   "source": []
  }
 ],
 "metadata": {
  "kernelspec": {
   "display_name": "Python 3",
   "language": "python",
   "name": "python3"
  },
  "language_info": {
   "codemirror_mode": {
    "name": "ipython",
    "version": 3
   },
   "file_extension": ".py",
   "mimetype": "text/x-python",
   "name": "python",
   "nbconvert_exporter": "python",
   "pygments_lexer": "ipython3",
   "version": "3.8.8"
  }
 },
 "nbformat": 4,
 "nbformat_minor": 5
}
