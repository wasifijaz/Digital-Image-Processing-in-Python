{
 "cells": [
  {
   "cell_type": "code",
   "execution_count": 1,
   "id": "c904592e",
   "metadata": {},
   "outputs": [],
   "source": [
    "import cv2\n",
    "import numpy as np\n",
    "from matplotlib import pyplot as plt"
   ]
  },
  {
   "cell_type": "code",
   "execution_count": 3,
   "id": "06b892b4",
   "metadata": {},
   "outputs": [],
   "source": [
    "image = cv2.imread('pic.jpg',0)\n",
    "img = cv2.GaussianBlur(image,(3,3),0)\n",
    "laplacian = cv2.Laplacian(img, cv2.CV_64F)"
   ]
  },
  {
   "cell_type": "code",
   "execution_count": 5,
   "id": "83288c54",
   "metadata": {},
   "outputs": [],
   "source": [
    "window_name = 'Laplacian edge detection'\n",
    "cv2.imshow(window_name,laplacian)\n",
    "cv2.waitKey(0)\n",
    "cv2.destroyAllWindows()"
   ]
  },
  {
   "cell_type": "code",
   "execution_count": null,
   "id": "4c1f405f",
   "metadata": {},
   "outputs": [],
   "source": []
  }
 ],
 "metadata": {
  "kernelspec": {
   "display_name": "Python 3",
   "language": "python",
   "name": "python3"
  },
  "language_info": {
   "codemirror_mode": {
    "name": "ipython",
    "version": 3
   },
   "file_extension": ".py",
   "mimetype": "text/x-python",
   "name": "python",
   "nbconvert_exporter": "python",
   "pygments_lexer": "ipython3",
   "version": "3.8.8"
  }
 },
 "nbformat": 4,
 "nbformat_minor": 5
}
