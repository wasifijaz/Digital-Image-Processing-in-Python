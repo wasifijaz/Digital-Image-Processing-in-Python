{
 "cells": [
  {
   "cell_type": "code",
   "execution_count": 1,
   "id": "abd24aee",
   "metadata": {},
   "outputs": [],
   "source": [
    "import cv2 \n",
    "import numpy as np \n",
    "\n",
    "img=cv2.imread('img.jpg',0) \n",
    "kernel=np.ones((5,5), np.uint8) \n",
    "erosion=cv2.erode(img,kernel,iterations = 1) \n",
    "cv2.imshow('Original', img) \n",
    "cv2.imshow('Erosion', erosion)\n",
    "cv2.waitKey()\n",
    "cv2.destroyAllWindows()"
   ]
  },
  {
   "cell_type": "code",
   "execution_count": 2,
   "id": "92b65d98",
   "metadata": {},
   "outputs": [],
   "source": [
    "kernel=np.ones((5,5), np.uint8) \n",
    "dilation=cv2.dilate(img,kernel,iterations = 1) \n",
    "cv2.imshow('Original', img) \n",
    "cv2.imshow('Dilate', dilation) \n",
    "cv2.waitKey()\n",
    "cv2.destroyAllWindows()"
   ]
  },
  {
   "cell_type": "code",
   "execution_count": null,
   "id": "3bfb4939",
   "metadata": {},
   "outputs": [],
   "source": []
  }
 ],
 "metadata": {
  "kernelspec": {
   "display_name": "Python 3",
   "language": "python",
   "name": "python3"
  },
  "language_info": {
   "codemirror_mode": {
    "name": "ipython",
    "version": 3
   },
   "file_extension": ".py",
   "mimetype": "text/x-python",
   "name": "python",
   "nbconvert_exporter": "python",
   "pygments_lexer": "ipython3",
   "version": "3.8.8"
  }
 },
 "nbformat": 4,
 "nbformat_minor": 5
}
