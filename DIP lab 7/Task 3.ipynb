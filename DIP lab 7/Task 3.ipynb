{
 "cells": [
  {
   "cell_type": "code",
   "execution_count": 1,
   "id": "1f31b45f",
   "metadata": {},
   "outputs": [],
   "source": [
    "from __future__ import print_function \n",
    "import cv2 \n",
    "import numpy as np \n",
    "MAX_FEATURES = 500 \n",
    "GOOD_MATCH_PERCENT = 0.15"
   ]
  },
  {
   "cell_type": "code",
   "execution_count": 2,
   "id": "585a74ef",
   "metadata": {},
   "outputs": [],
   "source": [
    "def alignImages(im1, im2):\n",
    "    im1Gray = cv2.cvtColor(im1, cv2.COLOR_BGR2GRAY)\n",
    "    im2Gray = cv2.cvtColor(im2, cv2.COLOR_BGR2GRAY)\n",
    "    orb = cv2.ORB_create(MAX_FEATURES)\n",
    "    keypoints1, descriptors1 = orb.detectAndCompute(im1Gray, None)\n",
    "    keypoints2, descriptors2 = orb.detectAndCompute(im2Gray, None)\n",
    "    matcher = cv2.DescriptorMatcher_create(cv2.DESCRIPTOR_MATCHER_BRUTEFORCE_HAMMING)\n",
    "    matches = matcher.match(descriptors1, descriptors2, None)\n",
    "    imMatches = cv2.drawMatches(im1, keypoints1, im2, keypoints2, matches, None)\n",
    "    cv2.imwrite(\"matches.jpg\", imMatches)\n",
    "    points1 = np.zeros((len(matches), 2), dtype=np.float32)\n",
    "    points2 = np.zeros((len(matches), 2), dtype=np.float32)\n",
    " \n",
    "    for i, match in enumerate(matches):\n",
    "        points1[i, :] = keypoints1[match.queryIdx].pt\n",
    "        points2[i, :] = keypoints2[match.trainIdx].pt\n",
    "\n",
    "    h, mask = cv2.findHomography(points1, points2, cv2.RANSAC)\n",
    "\n",
    "    height, width, channels = im2.shape\n",
    "    im1Reg = cv2.warpPerspective(im1, h, (width, height))\n",
    "    \n",
    "    return im1Reg, h"
   ]
  },
  {
   "cell_type": "code",
   "execution_count": 3,
   "id": "53f1eb49",
   "metadata": {},
   "outputs": [
    {
     "name": "stdout",
     "output_type": "stream",
     "text": [
      "Reading Reference Image: img.jpg\n",
      "Reading Image to align: img1.jpg\n",
      "Aligning images ...\n",
      "Saving Aligned Image: aligned.jpg\n",
      "Estimated Homography: \n",
      " [[ 1.72029700e-01 -5.63428510e-01  1.67078983e+02]\n",
      " [ 1.59010594e-01 -5.10175442e-01  1.50786031e+02]\n",
      " [ 1.04203559e-03 -3.37482154e-03  1.00000000e+00]]\n"
     ]
    }
   ],
   "source": [
    "if __name__ == '__main__':\n",
    "    refFilename = \"img.jpg\"\n",
    "    print(\"Reading Reference Image:\", refFilename)\n",
    "    imReference = cv2.imread(refFilename, cv2.IMREAD_COLOR)\n",
    " \n",
    "    imFilename = \"img1.jpg\"\n",
    "    print(\"Reading Image to align:\", imFilename)\n",
    "    im = cv2.imread(imFilename, cv2.IMREAD_COLOR)\n",
    "\n",
    "    print(\"Aligning images ...\")\n",
    "    imReg, h = alignImages(im, imReference)\n",
    " \n",
    "    outFilename = \"aligned.jpg\"\n",
    "    print(\"Saving Aligned Image:\", outFilename);\n",
    "    cv2.imwrite(outFilename, imReg)\n",
    "    print(\"Estimated Homography: \\n\",h)"
   ]
  },
  {
   "cell_type": "code",
   "execution_count": null,
   "id": "27889ac4",
   "metadata": {},
   "outputs": [],
   "source": []
  }
 ],
 "metadata": {
  "kernelspec": {
   "display_name": "Python 3",
   "language": "python",
   "name": "python3"
  },
  "language_info": {
   "codemirror_mode": {
    "name": "ipython",
    "version": 3
   },
   "file_extension": ".py",
   "mimetype": "text/x-python",
   "name": "python",
   "nbconvert_exporter": "python",
   "pygments_lexer": "ipython3",
   "version": "3.8.8"
  }
 },
 "nbformat": 4,
 "nbformat_minor": 5
}
