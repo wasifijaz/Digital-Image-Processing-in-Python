{
 "cells": [
  {
   "cell_type": "code",
   "execution_count": 2,
   "id": "bb72dbe7",
   "metadata": {},
   "outputs": [],
   "source": [
    "import cv2 \n",
    "import numpy as np \n",
    "img=cv2.imread('img.jpg') \n",
    "image = cv2.copyMakeBorder(img,10,10,10,10,cv2.BORDER_CONSTANT,None,value = 0) \n",
    "cv2.imshow('Original', img) \n",
    "window_name='Image' \n",
    "cv2.imshow(window_name, image) \n",
    "cv2.waitKey(0) \n",
    "cv2.destroyAllWindows() "
   ]
  },
  {
   "cell_type": "code",
   "execution_count": 5,
   "id": "e9056d11",
   "metadata": {},
   "outputs": [],
   "source": [
    "img=cv2.imread('img.jpg') \n",
    "image = cv2.copyMakeBorder(img, 100, 100, 50, 50, cv2.BORDER_REFLECT) \n",
    "cv2.imshow('Original', img) \n",
    "window_name='Image' \n",
    "cv2.imshow(window_name, image)\n",
    "cv2.waitKey(0) \n",
    "cv2.destroyAllWindows() "
   ]
  },
  {
   "cell_type": "code",
   "execution_count": 8,
   "id": "4a915cea",
   "metadata": {},
   "outputs": [],
   "source": [
    "img=cv2.imread('img.jpg') \n",
    "image = cv2.copyMakeBorder(img, 100, 100, 50, 50, cv2.BORDER_DEFAULT) \n",
    "cv2.imshow('Original', img) \n",
    "window_name='Image' \n",
    "cv2.imshow(window_name, image)\n",
    "cv2.waitKey(0) \n",
    "cv2.destroyAllWindows() "
   ]
  },
  {
   "cell_type": "code",
   "execution_count": null,
   "id": "c7af152b",
   "metadata": {},
   "outputs": [],
   "source": [
    "img=cv2.imread('pic.jpg') \n",
    "image = cv2.copyMakeBorder(img, 100, 100, 50, 50, cv2.BORDER_REPLICATE) \n",
    "cv2.imshow('Original', img) \n",
    "window_name='Image' \n",
    "cv2.imshow(window_name, image)\n",
    "cv2.waitKey(0) \n",
    "cv2.destroyAllWindows() "
   ]
  },
  {
   "cell_type": "code",
   "execution_count": null,
   "id": "a38f5c95",
   "metadata": {},
   "outputs": [],
   "source": []
  }
 ],
 "metadata": {
  "kernelspec": {
   "display_name": "Python 3",
   "language": "python",
   "name": "python3"
  },
  "language_info": {
   "codemirror_mode": {
    "name": "ipython",
    "version": 3
   },
   "file_extension": ".py",
   "mimetype": "text/x-python",
   "name": "python",
   "nbconvert_exporter": "python",
   "pygments_lexer": "ipython3",
   "version": "3.8.8"
  }
 },
 "nbformat": 4,
 "nbformat_minor": 5
}
