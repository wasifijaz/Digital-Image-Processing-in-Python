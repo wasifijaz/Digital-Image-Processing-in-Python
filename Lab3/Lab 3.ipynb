{
 "cells": [
  {
   "cell_type": "code",
   "execution_count": 2,
   "id": "c27ba82a",
   "metadata": {},
   "outputs": [],
   "source": [
    "import cv2\n",
    "import matplotlib.pyplot as plt\n",
    "import numpy as np"
   ]
  },
  {
   "cell_type": "code",
   "execution_count": 19,
   "id": "93530bd5",
   "metadata": {},
   "outputs": [],
   "source": [
    "image = cv2.imread('0001.jpeg',1)\n",
    "window_name = 'img'\n",
    "cv2.imshow(window_name,image)\n",
    "cv2.waitKey(0)\n",
    "cv2.destroyAllWindows()"
   ]
  },
  {
   "cell_type": "code",
   "execution_count": 4,
   "id": "bb485448",
   "metadata": {},
   "outputs": [],
   "source": [
    "cropped_image = image[80:280,150:330]\n",
    "cv2.imshow(window_name,cropped_image)\n",
    "cv2.waitKey(0)\n",
    "cv2.destroyAllWindows()"
   ]
  },
  {
   "cell_type": "code",
   "execution_count": 5,
   "id": "60a0d042",
   "metadata": {},
   "outputs": [],
   "source": [
    "resize_image = cv2.resize(image, [500,500])\n",
    "cv2.imshow(window_name,resize_image)\n",
    "cv2.waitKey(0)\n",
    "cv2.destroyAllWindows()"
   ]
  },
  {
   "cell_type": "code",
   "execution_count": 5,
   "id": "4d3c951c",
   "metadata": {},
   "outputs": [],
   "source": [
    "resize_image = cv2.resize(image, [500,500], interpolation=cv2.INTER_NEAREST)\n",
    "cv2.imshow(window_name,resize_image)\n",
    "cv2.waitKey(0)\n",
    "cv2.destroyAllWindows()"
   ]
  },
  {
   "cell_type": "code",
   "execution_count": 9,
   "id": "6b6fefe7",
   "metadata": {},
   "outputs": [],
   "source": [
    "resize_image = cv2.resize(image, [500,500], interpolation=cv2.INTER_LINEAR)\n",
    "cv2.imshow(window_name,resize_image)\n",
    "cv2.waitKey(0)\n",
    "cv2.destroyAllWindows()"
   ]
  },
  {
   "cell_type": "code",
   "execution_count": 8,
   "id": "9a4588e3",
   "metadata": {},
   "outputs": [],
   "source": [
    "resize_image = cv2.resize(image, [500,500], interpolation=cv2.INTER_CUBIC)\n",
    "cv2.imshow(window_name,resize_image)\n",
    "cv2.waitKey(0)\n",
    "cv2.destroyAllWindows()"
   ]
  },
  {
   "cell_type": "code",
   "execution_count": 10,
   "id": "fc644cd9",
   "metadata": {},
   "outputs": [],
   "source": [
    "rotate_image = cv2.rotate(image, rotateCode=cv2.ROTATE_90_CLOCKWISE)\n",
    "cv2.imshow(window_name,rotate_image)\n",
    "cv2.waitKey(0)\n",
    "cv2.destroyAllWindows()"
   ]
  },
  {
   "cell_type": "code",
   "execution_count": 11,
   "id": "24f2d1e3",
   "metadata": {},
   "outputs": [],
   "source": [
    "rotate_image = cv2.rotate(image, rotateCode=cv2.ROTATE_180)\n",
    "cv2.imshow(window_name,rotate_image)\n",
    "cv2.waitKey(0)\n",
    "cv2.destroyAllWindows()"
   ]
  },
  {
   "cell_type": "code",
   "execution_count": 12,
   "id": "0145afb4",
   "metadata": {},
   "outputs": [],
   "source": [
    "rotate_image = cv2.rotate(image, rotateCode=cv2.ROTATE_90_COUNTERCLOCKWISE)\n",
    "cv2.imshow(window_name,rotate_image)\n",
    "cv2.waitKey(0)\n",
    "cv2.destroyAllWindows()"
   ]
  },
  {
   "cell_type": "code",
   "execution_count": 20,
   "id": "412f6fe8",
   "metadata": {},
   "outputs": [],
   "source": [
    "cricle_image = cv2.circle(image, [150,150],100,(255,255,255),2)\n",
    "cv2.imshow(window_name,cricle_image)\n",
    "cv2.waitKey(0)\n",
    "cv2.destroyAllWindows()"
   ]
  },
  {
   "cell_type": "code",
   "execution_count": 21,
   "id": "0f12fc16",
   "metadata": {},
   "outputs": [],
   "source": [
    "rectangle_image = cv2.rectangle(image,[45,65],[200,150],(0,0,0),5)\n",
    "cv2.imshow(window_name,rectangle_image)\n",
    "cv2.waitKey(0)\n",
    "cv2.destroyAllWindows()"
   ]
  },
  {
   "cell_type": "code",
   "execution_count": 22,
   "id": "138a9583",
   "metadata": {},
   "outputs": [],
   "source": [
    "font = cv2.FONT_HERSHEY_SIMPLEX\n",
    "text_image = cv2.putText(image,'FLOWER',[50,50],font,2,(255,255,203),2)\n",
    "cv2.imshow(window_name,text_image)\n",
    "cv2.waitKey(0)\n",
    "cv2.destroyAllWindows()"
   ]
  },
  {
   "cell_type": "code",
   "execution_count": null,
   "id": "9ba52c95",
   "metadata": {},
   "outputs": [],
   "source": []
  }
 ],
 "metadata": {
  "kernelspec": {
   "display_name": "Python 3",
   "language": "python",
   "name": "python3"
  },
  "language_info": {
   "codemirror_mode": {
    "name": "ipython",
    "version": 3
   },
   "file_extension": ".py",
   "mimetype": "text/x-python",
   "name": "python",
   "nbconvert_exporter": "python",
   "pygments_lexer": "ipython3",
   "version": "3.8.8"
  }
 },
 "nbformat": 4,
 "nbformat_minor": 5
}
