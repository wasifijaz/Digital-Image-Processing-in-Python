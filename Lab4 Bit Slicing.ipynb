{
 "cells": [
  {
   "cell_type": "code",
   "execution_count": 1,
   "id": "c5e1c98c",
   "metadata": {},
   "outputs": [],
   "source": [
    "import cv2\n",
    "import matplotlib.pyplot as plt\n",
    "import numpy as np"
   ]
  },
  {
   "cell_type": "code",
   "execution_count": 2,
   "id": "24726baf",
   "metadata": {},
   "outputs": [],
   "source": [
    "image = cv2.imread('pic.jpg',0)\n",
    "window_name = 'img'\n",
    "cv2.imshow(window_name,image)\n",
    "cv2.waitKey(0)\n",
    "cv2.destroyAllWindows()"
   ]
  },
  {
   "cell_type": "code",
   "execution_count": 3,
   "id": "8069f8a8",
   "metadata": {},
   "outputs": [],
   "source": [
    "lst = []\n",
    "for i in range(image.shape[0]):\n",
    "    for j in range(image.shape[1]):\n",
    "        lst.append(np.binary_repr(image[i][j],width=8)) #width = no. of bits"
   ]
  },
  {
   "cell_type": "code",
   "execution_count": 4,
   "id": "3ea9999d",
   "metadata": {},
   "outputs": [],
   "source": [
    "eight_bit_img =(np.array([int(i[0]) for i in lst],dtype = np.uint8)*128).reshape(image.shape[0],image.shape[1])\n",
    "seven_bit_img =(np.array([int(i[1]) for i in lst],dtype = np.uint8)*64).reshape(image.shape[0],image.shape[1])\n",
    "six_bit_img =(np.array([int(i[2]) for i in lst],dtype = np.uint8)*32).reshape(image.shape[0],image.shape[1])\n",
    "five_bit_img =(np.array([int(i[3]) for i in lst],dtype = np.uint8)*16).reshape(image.shape[0],image.shape[1])\n",
    "four_bit_img =(np.array([int(i[4]) for i in lst],dtype = np.uint8)*8).reshape(image.shape[0],image.shape[1])\n",
    "three_bit_img =(np.array([int(i[5]) for i in lst],dtype = np.uint8)*4).reshape(image.shape[0],image.shape[1])\n",
    "two_bit_img =(np.array([int(i[6]) for i in lst],dtype = np.uint8)*2).reshape(image.shape[0],image.shape[1])\n",
    "one_bit_img =(np.array([int(i[7]) for i in lst],dtype = np.uint8)*1).reshape(image.shape[0],image.shape[1])"
   ]
  },
  {
   "cell_type": "code",
   "execution_count": 5,
   "id": "da208e4c",
   "metadata": {},
   "outputs": [],
   "source": [
    "finalr = cv2.hconcat([eight_bit_img,seven_bit_img,six_bit_img,five_bit_img])\n",
    "finalv = cv2.hconcat([four_bit_img,three_bit_img,two_bit_img,one_bit_img])\n",
    "final = cv2.vconcat([finalr,finalv])"
   ]
  },
  {
   "cell_type": "code",
   "execution_count": 6,
   "id": "79e21311",
   "metadata": {},
   "outputs": [],
   "source": [
    "window_name = 'Final'\n",
    "cv2.imshow(window_name,final)\n",
    "cv2.waitKey(0)\n",
    "cv2.destroyAllWindows()"
   ]
  },
  {
   "cell_type": "code",
   "execution_count": 7,
   "id": "9c8eab1c",
   "metadata": {},
   "outputs": [],
   "source": [
    "newImage = eight_bit_img+seven_bit_img+six_bit_img+five_bit_img\n",
    "window_name = 'Created Image'\n",
    "cv2.imshow(window_name,newImage)\n",
    "cv2.waitKey(0)\n",
    "cv2.destroyAllWindows()"
   ]
  },
  {
   "cell_type": "code",
   "execution_count": null,
   "id": "ec673ca8",
   "metadata": {},
   "outputs": [],
   "source": []
  }
 ],
 "metadata": {
  "kernelspec": {
   "display_name": "Python 3",
   "language": "python",
   "name": "python3"
  },
  "language_info": {
   "codemirror_mode": {
    "name": "ipython",
    "version": 3
   },
   "file_extension": ".py",
   "mimetype": "text/x-python",
   "name": "python",
   "nbconvert_exporter": "python",
   "pygments_lexer": "ipython3",
   "version": "3.8.8"
  }
 },
 "nbformat": 4,
 "nbformat_minor": 5
}
