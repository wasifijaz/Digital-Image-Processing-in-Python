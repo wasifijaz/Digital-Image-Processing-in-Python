{
 "cells": [
  {
   "cell_type": "code",
   "execution_count": 1,
   "id": "5af86261",
   "metadata": {},
   "outputs": [],
   "source": [
    "import cv2\n",
    "import matplotlib.pyplot as plt\n",
    "import numpy as np"
   ]
  },
  {
   "cell_type": "code",
   "execution_count": 14,
   "id": "20030154",
   "metadata": {},
   "outputs": [],
   "source": [
    "image = cv2.imread('pic.jpg',1)\n",
    "window_name = 'img'\n",
    "cv2.imshow(window_name,image)\n",
    "cv2.waitKey(0)\n",
    "cv2.destroyAllWindows()"
   ]
  },
  {
   "cell_type": "code",
   "execution_count": 9,
   "id": "382c8a04",
   "metadata": {},
   "outputs": [
    {
     "name": "stdout",
     "output_type": "stream",
     "text": [
      "500\n",
      "500\n"
     ]
    }
   ],
   "source": [
    "height = image.shape[0] #y-axis\n",
    "width = image.shape[1] #x-axis\n",
    "print(height)\n",
    "print(width)"
   ]
  },
  {
   "cell_type": "code",
   "execution_count": 11,
   "id": "fee21060",
   "metadata": {},
   "outputs": [],
   "source": [
    "newImg = np.zeros((height,width,3),np.uint8)\n",
    "for i in range(height):\n",
    "    for j in range(width):\n",
    "        for k in range(3):\n",
    "            if image[i,j][k] < 128:\n",
    "                gray = 0\n",
    "            else:\n",
    "                gray = 128\n",
    "            newImg[i,j][k] = np.uint8(gray)"
   ]
  },
  {
   "cell_type": "code",
   "execution_count": 15,
   "id": "eff81bb2",
   "metadata": {},
   "outputs": [],
   "source": [
    "window_name = 'New Image Level 2'\n",
    "cv2.imshow(window_name,newImg)\n",
    "cv2.waitKey(0)\n",
    "cv2.destroyAllWindows()"
   ]
  },
  {
   "cell_type": "code",
   "execution_count": 17,
   "id": "b634848a",
   "metadata": {},
   "outputs": [],
   "source": [
    "newImg = np.zeros((height,width,3),np.uint8)\n",
    "for i in range(height):\n",
    "    for j in range(width):\n",
    "        for k in range(3):\n",
    "            if image[i,j][k] < 64:\n",
    "                gray = 0\n",
    "            elif image[i,j][k] < 128:\n",
    "                gray = 64\n",
    "            elif image[i,j][k] < 192:\n",
    "                gray = 128\n",
    "            elif image[i,j][k] >= 192:\n",
    "                gray = 192\n",
    "            newImg[i,j][k] = np.uint8(gray)"
   ]
  },
  {
   "cell_type": "code",
   "execution_count": 18,
   "id": "7931102a",
   "metadata": {},
   "outputs": [],
   "source": [
    "window_name = 'New Image Level 4'\n",
    "cv2.imshow(window_name,newImg)\n",
    "cv2.waitKey(0)\n",
    "cv2.destroyAllWindows()"
   ]
  },
  {
   "cell_type": "code",
   "execution_count": 19,
   "id": "3814f21e",
   "metadata": {},
   "outputs": [],
   "source": [
    "newImg = np.zeros((height,width,3),np.uint8)\n",
    "for i in range(height):\n",
    "    for j in range(width):\n",
    "        for k in range(3):\n",
    "            if image[i,j][k] < 32:\n",
    "                gray = 0\n",
    "            elif image[i,j][k] < 64:\n",
    "                gray = 32\n",
    "            elif image[i,j][k] < 96:\n",
    "                gray = 64\n",
    "            elif image[i,j][k] < 128:\n",
    "                gray = 96\n",
    "            elif image[i,j][k] < 160:\n",
    "                gray = 128\n",
    "            elif image[i,j][k] < 192:\n",
    "                gray = 160\n",
    "            elif image[i,j][k] < 224:\n",
    "                gray = 192\n",
    "            elif image[i,j][k] >= 224:\n",
    "                gray = 224\n",
    "            newImg[i,j][k] = np.uint8(gray)"
   ]
  },
  {
   "cell_type": "code",
   "execution_count": 20,
   "id": "36b33aef",
   "metadata": {},
   "outputs": [],
   "source": [
    "window_name = 'New Image Level 8'\n",
    "cv2.imshow(window_name,newImg)\n",
    "cv2.waitKey(0)\n",
    "cv2.destroyAllWindows()"
   ]
  },
  {
   "cell_type": "code",
   "execution_count": null,
   "id": "7cd76eec",
   "metadata": {},
   "outputs": [],
   "source": []
  }
 ],
 "metadata": {
  "kernelspec": {
   "display_name": "Python 3",
   "language": "python",
   "name": "python3"
  },
  "language_info": {
   "codemirror_mode": {
    "name": "ipython",
    "version": 3
   },
   "file_extension": ".py",
   "mimetype": "text/x-python",
   "name": "python",
   "nbconvert_exporter": "python",
   "pygments_lexer": "ipython3",
   "version": "3.8.8"
  }
 },
 "nbformat": 4,
 "nbformat_minor": 5
}
