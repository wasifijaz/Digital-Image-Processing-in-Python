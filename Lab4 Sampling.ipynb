{
 "cells": [
  {
   "cell_type": "code",
   "execution_count": 1,
   "id": "65afdff9",
   "metadata": {},
   "outputs": [],
   "source": [
    "import cv2\n",
    "import matplotlib.pyplot as plt\n",
    "import numpy as np"
   ]
  },
  {
   "cell_type": "code",
   "execution_count": 2,
   "id": "8c31db53",
   "metadata": {},
   "outputs": [],
   "source": [
    "image = cv2.imread('pic.jpg',1)\n",
    "window_name = 'img'\n",
    "cv2.imshow(window_name,image)\n",
    "cv2.waitKey(0)\n",
    "cv2.destroyAllWindows()"
   ]
  },
  {
   "cell_type": "code",
   "execution_count": 3,
   "id": "8b0a3bf5",
   "metadata": {},
   "outputs": [
    {
     "name": "stdout",
     "output_type": "stream",
     "text": [
      "500\n",
      "500\n"
     ]
    }
   ],
   "source": [
    "height = image.shape[0] #y-axis\n",
    "width = image.shape[1] #x-axis\n",
    "print(height)\n",
    "print(width)"
   ]
  },
  {
   "cell_type": "code",
   "execution_count": 4,
   "id": "6dfeb4d9",
   "metadata": {},
   "outputs": [
    {
     "name": "stdout",
     "output_type": "stream",
     "text": [
      "31\n",
      "31\n"
     ]
    }
   ],
   "source": [
    "numHeight = int(height/16)\n",
    "numWidth = int(width/16)\n",
    "print(numHeight)\n",
    "print(numWidth)"
   ]
  },
  {
   "cell_type": "code",
   "execution_count": 5,
   "id": "6c97c7e2",
   "metadata": {},
   "outputs": [],
   "source": [
    "newImg = np.zeros((height,width,3),np.uint8)\n",
    "for i in range(16):\n",
    "    #obtain Y coordinates\n",
    "    y = i*numHeight\n",
    "    #obtain X coordinates\n",
    "    x = i*numWidth\n",
    "b = image[y,x][0]\n",
    "g = image[y,x][1]\n",
    "r = image[y,x][2]"
   ]
  },
  {
   "cell_type": "code",
   "execution_count": 6,
   "id": "403e7d89",
   "metadata": {},
   "outputs": [],
   "source": [
    "window_name = 'New Image'\n",
    "cv2.imshow(window_name,newImg)\n",
    "cv2.waitKey(0)\n",
    "cv2.destroyAllWindows()"
   ]
  },
  {
   "cell_type": "code",
   "execution_count": 7,
   "id": "72ae7473",
   "metadata": {},
   "outputs": [],
   "source": [
    "for i in range(numHeight):\n",
    "    for j in range(numWidth):\n",
    "        newImg[y+i,x+j][0] = np.uint8(b)\n",
    "        newImg[y+i,x+j][1] = np.uint8(g)\n",
    "        newImg[y+i,x+j][2] = np.uint8(r)"
   ]
  },
  {
   "cell_type": "code",
   "execution_count": 8,
   "id": "28d64f25",
   "metadata": {},
   "outputs": [],
   "source": [
    "window_name = 'New Image'\n",
    "cv2.imshow(window_name,newImg)\n",
    "cv2.waitKey(0)\n",
    "cv2.destroyAllWindows()"
   ]
  },
  {
   "cell_type": "code",
   "execution_count": null,
   "id": "d2ca1deb",
   "metadata": {},
   "outputs": [],
   "source": []
  }
 ],
 "metadata": {
  "kernelspec": {
   "display_name": "Python 3",
   "language": "python",
   "name": "python3"
  },
  "language_info": {
   "codemirror_mode": {
    "name": "ipython",
    "version": 3
   },
   "file_extension": ".py",
   "mimetype": "text/x-python",
   "name": "python",
   "nbconvert_exporter": "python",
   "pygments_lexer": "ipython3",
   "version": "3.8.8"
  }
 },
 "nbformat": 4,
 "nbformat_minor": 5
}
